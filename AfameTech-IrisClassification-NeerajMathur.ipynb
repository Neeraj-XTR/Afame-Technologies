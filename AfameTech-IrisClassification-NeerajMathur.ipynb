{
 "cells": [
  {
   "cell_type": "markdown",
   "id": "cbdb8f5a-1587-4def-bf7f-8721ebcca4be",
   "metadata": {},
   "source": [
    "# Afame Technologies Data Science Project"
   ]
  },
  {
   "cell_type": "markdown",
   "id": "773d43b2-ea79-4395-8012-130514a57e1e",
   "metadata": {},
   "source": [
    "## About \n",
    "The Iris flower data set is a multivariate data set introduced by the British statistician and biologist Ronald Fisher in his 1936 paper\r\n",
    "The Use of multiple measurements in Taxonomic Problems. It is sometimes called Anderson's Iris data set because Edgar Anderson\r\n",
    "collected the data to quantify the morphologic variation of Iris flowers of three related species. The data set consists of 50 samples\r\n",
    "from each of three species of Iris (Iris setosa, Iris virginica, and Iris versicolor). Four features were measured from each sample: the\r\n",
    "length and the width of the sepals and petals, in centimetcation tasks."
   ]
  },
  {
   "cell_type": "markdown",
   "id": "bbb2db82-6b9d-4cb2-8808-766139eb745c",
   "metadata": {},
   "source": [
    "## Objective:-\n",
    "The Iris flower dataset consists of three species: setosa, versicolor, and virginica. These species can be distinguished based on\n",
    "their measurements. Now, imagine that you have the measurements of Iris flowers categorized by their respective species.\n",
    "Your objective is to train a machine learning model that can learn from these measurements and accurately classify the Iris\n",
    "flowers into their respective species.\n",
    "Use the Iris dataset to develop a model that can classify iris flowers into different species based on their sepal and petal\n",
    "measurements. This dataset is widely used for introductory classification tasks."
   ]
  },
  {
   "cell_type": "code",
   "execution_count": 4,
   "id": "495070c7-7b96-4b08-b6a6-254fe8928575",
   "metadata": {},
   "outputs": [
    {
     "data": {
      "text/html": [
       "<div>\n",
       "<style scoped>\n",
       "    .dataframe tbody tr th:only-of-type {\n",
       "        vertical-align: middle;\n",
       "    }\n",
       "\n",
       "    .dataframe tbody tr th {\n",
       "        vertical-align: top;\n",
       "    }\n",
       "\n",
       "    .dataframe thead th {\n",
       "        text-align: right;\n",
       "    }\n",
       "</style>\n",
       "<table border=\"1\" class=\"dataframe\">\n",
       "  <thead>\n",
       "    <tr style=\"text-align: right;\">\n",
       "      <th></th>\n",
       "      <th>sepal_length</th>\n",
       "      <th>sepal_width</th>\n",
       "      <th>petal_length</th>\n",
       "      <th>petal_width</th>\n",
       "      <th>species</th>\n",
       "    </tr>\n",
       "  </thead>\n",
       "  <tbody>\n",
       "    <tr>\n",
       "      <th>0</th>\n",
       "      <td>5.1</td>\n",
       "      <td>3.5</td>\n",
       "      <td>1.4</td>\n",
       "      <td>0.2</td>\n",
       "      <td>Iris-setosa</td>\n",
       "    </tr>\n",
       "    <tr>\n",
       "      <th>1</th>\n",
       "      <td>4.9</td>\n",
       "      <td>3.0</td>\n",
       "      <td>1.4</td>\n",
       "      <td>0.2</td>\n",
       "      <td>Iris-setosa</td>\n",
       "    </tr>\n",
       "    <tr>\n",
       "      <th>2</th>\n",
       "      <td>4.7</td>\n",
       "      <td>3.2</td>\n",
       "      <td>1.3</td>\n",
       "      <td>0.2</td>\n",
       "      <td>Iris-setosa</td>\n",
       "    </tr>\n",
       "    <tr>\n",
       "      <th>3</th>\n",
       "      <td>4.6</td>\n",
       "      <td>3.1</td>\n",
       "      <td>1.5</td>\n",
       "      <td>0.2</td>\n",
       "      <td>Iris-setosa</td>\n",
       "    </tr>\n",
       "    <tr>\n",
       "      <th>4</th>\n",
       "      <td>5.0</td>\n",
       "      <td>3.6</td>\n",
       "      <td>1.4</td>\n",
       "      <td>0.2</td>\n",
       "      <td>Iris-setosa</td>\n",
       "    </tr>\n",
       "  </tbody>\n",
       "</table>\n",
       "</div>"
      ],
      "text/plain": [
       "   sepal_length  sepal_width  petal_length  petal_width      species\n",
       "0           5.1          3.5           1.4          0.2  Iris-setosa\n",
       "1           4.9          3.0           1.4          0.2  Iris-setosa\n",
       "2           4.7          3.2           1.3          0.2  Iris-setosa\n",
       "3           4.6          3.1           1.5          0.2  Iris-setosa\n",
       "4           5.0          3.6           1.4          0.2  Iris-setosa"
      ]
     },
     "execution_count": 4,
     "metadata": {},
     "output_type": "execute_result"
    }
   ],
   "source": [
    "# Reading and Accessing Data:\n",
    "import pandas as pd\n",
    "data = pd.read_csv(\"IRIS Flower (1).csv\")\n",
    "data.head()"
   ]
  },
  {
   "cell_type": "markdown",
   "id": "28f71f08-5325-4650-877b-1382c69ed8e5",
   "metadata": {},
   "source": [
    "## Data Cleaning"
   ]
  },
  {
   "cell_type": "code",
   "execution_count": 37,
   "id": "7e5e6a8f-6d40-4e3f-9a7b-07bf1bd30bcf",
   "metadata": {},
   "outputs": [
    {
     "name": "stdout",
     "output_type": "stream",
     "text": [
      "There are no missing values\n"
     ]
    }
   ],
   "source": [
    "# Checking for missing values:\n",
    "var = data.isna().sum()\n",
    "if var.any() != 0:\n",
    "    print(\"There are missing values\")\n",
    "    print(data.isna().sum())\n",
    "else:\n",
    "    print(\"There are no missing values\")"
   ]
  },
  {
   "cell_type": "code",
   "execution_count": 9,
   "id": "60d5b2b0-b7cf-4bcb-b8c8-2a08beee9845",
   "metadata": {},
   "outputs": [
    {
     "data": {
      "text/html": [
       "<div>\n",
       "<style scoped>\n",
       "    .dataframe tbody tr th:only-of-type {\n",
       "        vertical-align: middle;\n",
       "    }\n",
       "\n",
       "    .dataframe tbody tr th {\n",
       "        vertical-align: top;\n",
       "    }\n",
       "\n",
       "    .dataframe thead th {\n",
       "        text-align: right;\n",
       "    }\n",
       "</style>\n",
       "<table border=\"1\" class=\"dataframe\">\n",
       "  <thead>\n",
       "    <tr style=\"text-align: right;\">\n",
       "      <th></th>\n",
       "      <th>sepal_length</th>\n",
       "      <th>sepal_width</th>\n",
       "      <th>petal_length</th>\n",
       "      <th>petal_width</th>\n",
       "    </tr>\n",
       "  </thead>\n",
       "  <tbody>\n",
       "    <tr>\n",
       "      <th>count</th>\n",
       "      <td>150.000000</td>\n",
       "      <td>150.000000</td>\n",
       "      <td>150.000000</td>\n",
       "      <td>150.000000</td>\n",
       "    </tr>\n",
       "    <tr>\n",
       "      <th>mean</th>\n",
       "      <td>5.843333</td>\n",
       "      <td>3.054000</td>\n",
       "      <td>3.758667</td>\n",
       "      <td>1.198667</td>\n",
       "    </tr>\n",
       "    <tr>\n",
       "      <th>std</th>\n",
       "      <td>0.828066</td>\n",
       "      <td>0.433594</td>\n",
       "      <td>1.764420</td>\n",
       "      <td>0.763161</td>\n",
       "    </tr>\n",
       "    <tr>\n",
       "      <th>min</th>\n",
       "      <td>4.300000</td>\n",
       "      <td>2.000000</td>\n",
       "      <td>1.000000</td>\n",
       "      <td>0.100000</td>\n",
       "    </tr>\n",
       "    <tr>\n",
       "      <th>25%</th>\n",
       "      <td>5.100000</td>\n",
       "      <td>2.800000</td>\n",
       "      <td>1.600000</td>\n",
       "      <td>0.300000</td>\n",
       "    </tr>\n",
       "    <tr>\n",
       "      <th>50%</th>\n",
       "      <td>5.800000</td>\n",
       "      <td>3.000000</td>\n",
       "      <td>4.350000</td>\n",
       "      <td>1.300000</td>\n",
       "    </tr>\n",
       "    <tr>\n",
       "      <th>75%</th>\n",
       "      <td>6.400000</td>\n",
       "      <td>3.300000</td>\n",
       "      <td>5.100000</td>\n",
       "      <td>1.800000</td>\n",
       "    </tr>\n",
       "    <tr>\n",
       "      <th>max</th>\n",
       "      <td>7.900000</td>\n",
       "      <td>4.400000</td>\n",
       "      <td>6.900000</td>\n",
       "      <td>2.500000</td>\n",
       "    </tr>\n",
       "  </tbody>\n",
       "</table>\n",
       "</div>"
      ],
      "text/plain": [
       "       sepal_length  sepal_width  petal_length  petal_width\n",
       "count    150.000000   150.000000    150.000000   150.000000\n",
       "mean       5.843333     3.054000      3.758667     1.198667\n",
       "std        0.828066     0.433594      1.764420     0.763161\n",
       "min        4.300000     2.000000      1.000000     0.100000\n",
       "25%        5.100000     2.800000      1.600000     0.300000\n",
       "50%        5.800000     3.000000      4.350000     1.300000\n",
       "75%        6.400000     3.300000      5.100000     1.800000\n",
       "max        7.900000     4.400000      6.900000     2.500000"
      ]
     },
     "execution_count": 9,
     "metadata": {},
     "output_type": "execute_result"
    }
   ],
   "source": [
    "# Data researching\n",
    "data.describe()"
   ]
  },
  {
   "cell_type": "code",
   "execution_count": 10,
   "id": "7bb0d5c3-2a63-45e4-922e-88a9299b84a3",
   "metadata": {},
   "outputs": [
    {
     "name": "stdout",
     "output_type": "stream",
     "text": [
      "<class 'pandas.core.frame.DataFrame'>\n",
      "RangeIndex: 150 entries, 0 to 149\n",
      "Data columns (total 5 columns):\n",
      " #   Column        Non-Null Count  Dtype  \n",
      "---  ------        --------------  -----  \n",
      " 0   sepal_length  150 non-null    float64\n",
      " 1   sepal_width   150 non-null    float64\n",
      " 2   petal_length  150 non-null    float64\n",
      " 3   petal_width   150 non-null    float64\n",
      " 4   species       150 non-null    object \n",
      "dtypes: float64(4), object(1)\n",
      "memory usage: 6.0+ KB\n"
     ]
    }
   ],
   "source": [
    "data.info()"
   ]
  },
  {
   "cell_type": "markdown",
   "id": "887362bf-88de-4611-abc4-e5bb4e91720b",
   "metadata": {},
   "source": [
    "## Exploratory Data Analysis"
   ]
  },
  {
   "cell_type": "code",
   "execution_count": 22,
   "id": "f51b2a58-405d-4200-bc1d-d2fadfb2b77e",
   "metadata": {},
   "outputs": [
    {
     "data": {
      "text/plain": [
       "Iris-setosa        50\n",
       "Iris-versicolor    50\n",
       "Iris-virginica     50\n",
       "Name: species, dtype: int64"
      ]
     },
     "execution_count": 22,
     "metadata": {},
     "output_type": "execute_result"
    }
   ],
   "source": [
    "# finding the number of classes in the target column \n",
    "x = data[\"species\"].value_counts()\n",
    "x"
   ]
  },
  {
   "cell_type": "code",
   "execution_count": 29,
   "id": "415be45b-59f8-4abf-af16-4c1ade7cf199",
   "metadata": {},
   "outputs": [
    {
     "data": {
      "text/plain": [
       "<Axes: >"
      ]
     },
     "execution_count": 29,
     "metadata": {},
     "output_type": "execute_result"
    },
    {
     "data": {
      "image/png": "[encoded data removed]",
      "text/plain": [
       "<Figure size 640x480 with 1 Axes>"
      ]
     },
     "metadata": {},
     "output_type": "display_data"
    }
   ],
   "source": [
    "x.plot(kind = \"bar\",color=[\"red\",\"blue\",\"green\"])"
   ]
  },
  {
   "cell_type": "code",
   "execution_count": 33,
   "id": "63084578-589e-4927-a09b-256b99532513",
   "metadata": {},
   "outputs": [
    {
     "data": {
      "text/plain": [
       "<Axes: xlabel='species'>"
      ]
     },
     "execution_count": 33,
     "metadata": {},
     "output_type": "execute_result"
    },
    {
     "data": {
      "image/png": "[encoded data removed]",
      "text/plain": [
       "<Figure size 1000x600 with 1 Axes>"
      ]
     },
     "metadata": {},
     "output_type": "display_data"
    }
   ],
   "source": [
    "data.sepal_length.value_counts()\n",
    "y = pd.crosstab(data.species,data.sepal_length)\n",
    "y.plot(kind=\"bar\", figsize = (10,6),color = [\"salmon\",\"blue\"])"
   ]
  },
  {
   "cell_type": "markdown",
   "id": "ee57b2d1-4c55-4db3-ab07-dbe2ef1ecd8c",
   "metadata": {},
   "source": [
    "## Data Splitting"
   ]
  },
  {
   "cell_type": "code",
   "execution_count": 63,
   "id": "a81658bc-6b05-4059-aad0-1c9dbed12e6b",
   "metadata": {},
   "outputs": [
    {
     "data": {
      "text/plain": [
       "(     sepal_length  sepal_width  petal_length  petal_width\n",
       " 0             5.1          3.5           1.4          0.2\n",
       " 1             4.9          3.0           1.4          0.2\n",
       " 2             4.7          3.2           1.3          0.2\n",
       " 3             4.6          3.1           1.5          0.2\n",
       " 4             5.0          3.6           1.4          0.2\n",
       " ..            ...          ...           ...          ...\n",
       " 145           6.7          3.0           5.2          2.3\n",
       " 146           6.3          2.5           5.0          1.9\n",
       " 147           6.5          3.0           5.2          2.0\n",
       " 148           6.2          3.4           5.4          2.3\n",
       " 149           5.9          3.0           5.1          1.8\n",
       " \n",
       " [150 rows x 4 columns],\n",
       "             species\n",
       " 0       Iris-setosa\n",
       " 1       Iris-setosa\n",
       " 2       Iris-setosa\n",
       " 3       Iris-setosa\n",
       " 4       Iris-setosa\n",
       " ..              ...\n",
       " 145  Iris-virginica\n",
       " 146  Iris-virginica\n",
       " 147  Iris-virginica\n",
       " 148  Iris-virginica\n",
       " 149  Iris-virginica\n",
       " \n",
       " [150 rows x 1 columns])"
      ]
     },
     "execution_count": 63,
     "metadata": {},
     "output_type": "execute_result"
    }
   ],
   "source": [
    "import numpy as np\n",
    "X = data.drop(\"species\", axis=1)\n",
    "y = pd.DataFrame(data['species'])\n",
    "np.random.seed(42)\n",
    "X, y\n",
    "#from sklearn.model_selection import train_test_split\n",
    "#x_train, x_test, y_train, y_test = tts(\n"
   ]
  },
  {
   "cell_type": "code",
   "execution_count": 66,
   "id": "a9618270-2f98-4325-8048-0cc43a4ad4cb",
   "metadata": {},
   "outputs": [
    {
     "name": "stderr",
     "output_type": "stream",
     "text": [
      "C:\\Users\\Neeraj Mathur\\desktop\\MLDL projects\\env\\Lib\\site-packages\\sklearn\\preprocessing\\_label.py:114: DataConversionWarning: A column-vector y was passed when a 1d array was expected. Please change the shape of y to (n_samples, ), for example using ravel().\n",
      "  y = column_or_1d(y, warn=True)\n"
     ]
    }
   ],
   "source": [
    "# converting data to numbers\n",
    "from sklearn.preprocessing import LabelEncoder\n",
    "\n",
    "# Assuming y is your target variable in object type format\n",
    "label_encoder = LabelEncoder()\n",
    "y = label_encoder.fit_transform(y)\n",
    "\n",
    "# Now y is in numerical format and you can proceed with the rest of your code\n"
   ]
  },
  {
   "cell_type": "code",
   "execution_count": 58,
   "id": "c07f73a5-5158-45c6-81b3-ca79a3269224",
   "metadata": {},
   "outputs": [],
   "source": [
    "#### we can also convert data to numbers using the below code of one hot encoder\n",
    "# from sklearn.preprocessing import OneHotEncoder\n",
    "# from sklearn.compose import ColumnTransformer\n",
    "# data_to_convert = data[\"species\"]\n",
    "# one = OneHotEncoder()\n",
    "# transformer = ColumnTransformer([(\"one\",one,data_to_convert)],remainder=\"passthrough\")\n",
    "# transformed = transformer.fit_transform(y)\n",
    "# target = pd.DataFrame(transformed)"
   ]
  },
  {
   "cell_type": "code",
   "execution_count": 67,
   "id": "a1496c0a-c268-4514-b059-70bc94b193dc",
   "metadata": {},
   "outputs": [],
   "source": [
    "from sklearn.model_selection import train_test_split as tts\n",
    "#X_train, X_test, y_train, y_test = tts(transformed_x,transformed_y,test_size = 0.2)\n",
    "X_train, X_test, y_train, y_test = tts(X,y,test_size = 0.2)"
   ]
  },
  {
   "cell_type": "markdown",
   "id": "f852ad0f-e146-4bc3-a6fc-3ad78e5f4690",
   "metadata": {},
   "source": [
    "# Training and calculation of different Evaluation metrics"
   ]
  },
  {
   "cell_type": "code",
   "execution_count": 68,
   "id": "2707baa7-e7fa-4b09-91bb-52c555dacb3e",
   "metadata": {},
   "outputs": [
    {
     "name": "stdout",
     "output_type": "stream",
     "text": [
      "Model: Logistic Regression\n",
      "Accuracy: 96.67%\n",
      "Confusion Matrix:\n",
      "[[14  0  0]\n",
      " [ 0  5  1]\n",
      " [ 0  0 10]]\n",
      "Classification Report:\n",
      "              precision    recall  f1-score   support\n",
      "\n",
      "           0       1.00      1.00      1.00        14\n",
      "           1       1.00      0.83      0.91         6\n",
      "           2       0.91      1.00      0.95        10\n",
      "\n",
      "    accuracy                           0.97        30\n",
      "   macro avg       0.97      0.94      0.95        30\n",
      "weighted avg       0.97      0.97      0.97        30\n",
      "\n",
      "------------------------------------------------------------\n",
      "Model: Support Vector Machine\n",
      "Accuracy: 96.67%\n",
      "Confusion Matrix:\n",
      "[[14  0  0]\n",
      " [ 0  5  1]\n",
      " [ 0  0 10]]\n",
      "Classification Report:\n",
      "              precision    recall  f1-score   support\n",
      "\n",
      "           0       1.00      1.00      1.00        14\n",
      "           1       1.00      0.83      0.91         6\n",
      "           2       0.91      1.00      0.95        10\n",
      "\n",
      "    accuracy                           0.97        30\n",
      "   macro avg       0.97      0.94      0.95        30\n",
      "weighted avg       0.97      0.97      0.97        30\n",
      "\n",
      "------------------------------------------------------------\n",
      "Model: K-Nearest Neighbors\n",
      "Accuracy: 100.00%\n",
      "Confusion Matrix:\n",
      "[[14  0  0]\n",
      " [ 0  6  0]\n",
      " [ 0  0 10]]\n",
      "Classification Report:\n",
      "              precision    recall  f1-score   support\n",
      "\n",
      "           0       1.00      1.00      1.00        14\n",
      "           1       1.00      1.00      1.00         6\n",
      "           2       1.00      1.00      1.00        10\n",
      "\n",
      "    accuracy                           1.00        30\n",
      "   macro avg       1.00      1.00      1.00        30\n",
      "weighted avg       1.00      1.00      1.00        30\n",
      "\n",
      "------------------------------------------------------------\n",
      "Model: Random Forest\n",
      "Accuracy: 96.67%\n",
      "Confusion Matrix:\n",
      "[[14  0  0]\n",
      " [ 0  5  1]\n",
      " [ 0  0 10]]\n",
      "Classification Report:\n",
      "              precision    recall  f1-score   support\n",
      "\n",
      "           0       1.00      1.00      1.00        14\n",
      "           1       1.00      0.83      0.91         6\n",
      "           2       0.91      1.00      0.95        10\n",
      "\n",
      "    accuracy                           0.97        30\n",
      "   macro avg       0.97      0.94      0.95        30\n",
      "weighted avg       0.97      0.97      0.97        30\n",
      "\n",
      "------------------------------------------------------------\n"
     ]
    }
   ],
   "source": [
    "from sklearn.linear_model import LogisticRegression\n",
    "from sklearn.svm import SVC\n",
    "from sklearn.neighbors import KNeighborsClassifier\n",
    "from sklearn.ensemble import RandomForestClassifier\n",
    "from sklearn.metrics import accuracy_score, classification_report, confusion_matrix\n",
    "# Initialize models\n",
    "models = {\n",
    "    'Logistic Regression': LogisticRegression(),\n",
    "    'Support Vector Machine': SVC(),\n",
    "    'K-Nearest Neighbors': KNeighborsClassifier(),\n",
    "    'Random Forest': RandomForestClassifier()\n",
    "}\n",
    "\n",
    "# Train, test, and evaluate models\n",
    "for model_name, model in models.items():\n",
    "    # Train the model\n",
    "    model.fit(X_train, y_train)\n",
    "    \n",
    "    # Make predictions\n",
    "    y_pred = model.predict(X_test)\n",
    "    \n",
    "    # Evaluate the model\n",
    "    accuracy = accuracy_score(y_test, y_pred)\n",
    "    conf_matrix = confusion_matrix(y_test, y_pred)\n",
    "    class_report = classification_report(y_test, y_pred)\n",
    "    \n",
    "    # Print the results\n",
    "    print(f'Model: {model_name}')\n",
    "    print(f'Accuracy: {accuracy * 100:.2f}%')\n",
    "    print('Confusion Matrix:')\n",
    "    print(conf_matrix)\n",
    "    print('Classification Report:')\n",
    "    print(class_report)\n",
    "    print('-' * 60)"
   ]
  },
  {
   "cell_type": "markdown",
   "id": "44437fd8-d93c-4888-a54f-26dcd3b1729a",
   "metadata": {},
   "source": [
    "### From the output we can seet that K nearest neighbors has the best accuracy"
   ]
  },
  {
   "cell_type": "markdown",
   "id": "f8de6ad8-e1fc-4ab7-99bd-abd5f3c67770",
   "metadata": {},
   "source": [
    "# Python function that takes featues as inputs and finds the species of the iris flower based on the given features of the flowers"
   ]
  },
  {
   "cell_type": "code",
   "execution_count": 92,
   "id": "649baabd-86a5-44ec-a4ed-085cb4228272",
   "metadata": {},
   "outputs": [
    {
     "name": "stdout",
     "output_type": "stream",
     "text": [
      "The predicted species is: Iris-setosa\n"
     ]
    },
    {
     "name": "stderr",
     "output_type": "stream",
     "text": [
      "C:\\Users\\Neeraj Mathur\\desktop\\MLDL projects\\env\\Lib\\site-packages\\sklearn\\preprocessing\\_label.py:114: DataConversionWarning: A column-vector y was passed when a 1d array was expected. Please change the shape of y to (n_samples, ), for example using ravel().\n",
      "  y = column_or_1d(y, warn=True)\n",
      "C:\\Users\\Neeraj Mathur\\desktop\\MLDL projects\\env\\Lib\\site-packages\\sklearn\\base.py:464: UserWarning: X does not have valid feature names, but StandardScaler was fitted with feature names\n",
      "  warnings.warn(\n"
     ]
    }
   ],
   "source": [
    "from sklearn.neighbors import KNeighborsClassifier\n",
    "import numpy as np\n",
    "X = data.drop(\"species\", axis=1)\n",
    "y = pd.DataFrame(data['species'])\n",
    "np.random.seed(42)\n",
    "# Convert target variable to numerical format if not already done\n",
    "label_encoder = LabelEncoder()\n",
    "y = label_encoder.fit_transform(y)\n",
    "data \n",
    "# Split the data into training and testing sets\n",
    "X_train, X_test, y_train, y_test = train_test_split(X, y, test_size=0.2, random_state=42)\n",
    "\n",
    "# Standardize the features\n",
    "scaler = StandardScaler()\n",
    "X_train = scaler.fit_transform(X_train)\n",
    "X_test = scaler.transform(X_test)\n",
    "\n",
    "knn = KNeighborsClassifier(n_neighbors=3)  # You can choose an appropriate value for n_neighbors\n",
    "knn.fit(X_train, y_train)\n",
    "\n",
    "# Function\n",
    "def predict_species(features):\n",
    "    features = scaler.transform([features])\n",
    "    prediction = knn.predict(features)\n",
    "    \n",
    "    # Convert the numerical prediction back to the original species name\n",
    "    species = label_encoder.inverse_transform(prediction)\n",
    "    \n",
    "    return species[0]\n",
    "\n",
    "# Example usage\n",
    "example_features = [5.1, 3.5, 1.4, 0.2]\n",
    "predicted_species = predict_species(example_features)\n",
    "print(f'The predicted species is: {predicted_species}')\n"
   ]
  },
  {
   "cell_type": "code",
   "execution_count": null,
   "id": "1d8e02e6-bc66-4ea7-92e7-a06ef8910488",
   "metadata": {},
   "outputs": [],
   "source": []
  },
  {
   "cell_type": "code",
   "execution_count": null,
   "id": "6c6a27ce-53df-4713-bf24-7e1ad0bb6fb9",
   "metadata": {},
   "outputs": [],
   "source": []
  }
 ],
 "metadata": {
  "kernelspec": {
   "display_name": "Python 3 (ipykernel)",
   "language": "python",
   "name": "python3"
  },
  "language_info": {
   "codemirror_mode": {
    "name": "ipython",
    "version": 3
   },
   "file_extension": ".py",
   "mimetype": "text/x-python",
   "name": "python",
   "nbconvert_exporter": "python",
   "pygments_lexer": "ipython3",
   "version": "3.11.5"
  }
 },
 "nbformat": 4,
 "nbformat_minor": 5
}
